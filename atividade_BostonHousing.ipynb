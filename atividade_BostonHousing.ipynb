{
  "nbformat": 4,
  "nbformat_minor": 0,
  "metadata": {
    "colab": {
      "name": "BostonHousing.ipynb",
      "provenance": [],
      "collapsed_sections": []
    },
    "kernelspec": {
      "name": "python3",
      "display_name": "Python 3"
    }
  },
  "cells": [
    {
      "cell_type": "markdown",
      "metadata": {
        "id": "QS9fuwN0N0u_"
      },
      "source": [
        "\n",
        "\n",
        "Este projeto é baseado no capitulo 2 do livro do Aurélion Geron e no [notebook](https://github.com/edsonjunior14/mlcourse/blob/master/Projeto_offline_ML.ipynb) do projeto California Housin \n",
        "disponibilizado pelo professor Edson. O problema consiste em predizer o valor médio de casas em Boston. "
      ]
    },
    {
      "cell_type": "markdown",
      "metadata": {
        "id": "HvK6FsoqQgee"
      },
      "source": [
        "0. Configurações Iniciais"
      ]
    },
    {
      "cell_type": "code",
      "metadata": {
        "id": "NSz1wrWnN1ya"
      },
      "source": [
        "\n",
        "#importar bibliotecas\n",
        "import numpy as np\n",
        "import os"
      ],
      "execution_count": null,
      "outputs": []
    },
    {
      "cell_type": "code",
      "metadata": {
        "id": "FMiO9LqBODH5"
      },
      "source": [
        "# Gerar semente aleatória para ser possível reproduzir o experimento. \n",
        "seed = 42\n",
        "np.random.seed(seed)"
      ],
      "execution_count": null,
      "outputs": []
    },
    {
      "cell_type": "code",
      "metadata": {
        "id": "-62XAYNDOV2r"
      },
      "source": [
        "#Para plotar figuras\n",
        "%matplotlib inline \n",
        "import matplotlib as mpl \n",
        "import matplotlib.pyplot as plt \n",
        "\n",
        "mpl.rc('axes', labelsize=14) \n",
        "mpl.rc('xtick', labelsize=12)\n",
        "mpl.rc('ytick', labelsize=12)"
      ],
      "execution_count": null,
      "outputs": []
    },
    {
      "cell_type": "code",
      "metadata": {
        "id": "6N65lfn5Ottt"
      },
      "source": [
        "# desligar warnings desnecessários ligados ao 'internal gelsd'\n",
        "import warnings\n",
        "warnings.filterwarnings(action=\"ignore\", message=\"^internal gelsd\")"
      ],
      "execution_count": null,
      "outputs": []
    },
    {
      "cell_type": "markdown",
      "metadata": {
        "id": "FA1I4AKkPSmd"
      },
      "source": [
        "1. ENQUADRAR O PROBLEMA\n",
        "\n",
        "O problema consiste em predizer o preço médio das habitações em Boston. "
      ]
    },
    {
      "cell_type": "markdown",
      "metadata": {
        "id": "J6LFqvCOP5F1"
      },
      "source": [
        "2. OBTER OS DADOS"
      ]
    },
    {
      "cell_type": "code",
      "metadata": {
        "colab": {
          "base_uri": "https://localhost:8080/",
          "height": 363
        },
        "id": "_5mSnPPJ2KFv",
        "outputId": "e733bda7-d853-4257-a77f-17317e3bc810"
      },
      "source": [
        "from sklearn import datasets\n",
        "import pandas as pd\n",
        "\n",
        "boston_data = datasets.load_boston()\n",
        "housing = pd.DataFrame(boston_data.data,columns=boston_data.feature_names)\n",
        "housing['MEDV'] = pd.Series(boston_data.target)\n",
        "housing.head(n=10)"
      ],
      "execution_count": null,
      "outputs": [
        {
          "output_type": "execute_result",
          "data": {
            "text/html": [
              "<div>\n",
              "<style scoped>\n",
              "    .dataframe tbody tr th:only-of-type {\n",
              "        vertical-align: middle;\n",
              "    }\n",
              "\n",
              "    .dataframe tbody tr th {\n",
              "        vertical-align: top;\n",
              "    }\n",
              "\n",
              "    .dataframe thead th {\n",
              "        text-align: right;\n",
              "    }\n",
              "</style>\n",
              "<table border=\"1\" class=\"dataframe\">\n",
              "  <thead>\n",
              "    <tr style=\"text-align: right;\">\n",
              "      <th></th>\n",
              "      <th>CRIM</th>\n",
              "      <th>ZN</th>\n",
              "      <th>INDUS</th>\n",
              "      <th>CHAS</th>\n",
              "      <th>NOX</th>\n",
              "      <th>RM</th>\n",
              "      <th>AGE</th>\n",
              "      <th>DIS</th>\n",
              "      <th>RAD</th>\n",
              "      <th>TAX</th>\n",
              "      <th>PTRATIO</th>\n",
              "      <th>B</th>\n",
              "      <th>LSTAT</th>\n",
              "      <th>MEDV</th>\n",
              "    </tr>\n",
              "  </thead>\n",
              "  <tbody>\n",
              "    <tr>\n",
              "      <th>0</th>\n",
              "      <td>0.00632</td>\n",
              "      <td>18.0</td>\n",
              "      <td>2.31</td>\n",
              "      <td>0.0</td>\n",
              "      <td>0.538</td>\n",
              "      <td>6.575</td>\n",
              "      <td>65.2</td>\n",
              "      <td>4.0900</td>\n",
              "      <td>1.0</td>\n",
              "      <td>296.0</td>\n",
              "      <td>15.3</td>\n",
              "      <td>396.90</td>\n",
              "      <td>4.98</td>\n",
              "      <td>24.0</td>\n",
              "    </tr>\n",
              "    <tr>\n",
              "      <th>1</th>\n",
              "      <td>0.02731</td>\n",
              "      <td>0.0</td>\n",
              "      <td>7.07</td>\n",
              "      <td>0.0</td>\n",
              "      <td>0.469</td>\n",
              "      <td>6.421</td>\n",
              "      <td>78.9</td>\n",
              "      <td>4.9671</td>\n",
              "      <td>2.0</td>\n",
              "      <td>242.0</td>\n",
              "      <td>17.8</td>\n",
              "      <td>396.90</td>\n",
              "      <td>9.14</td>\n",
              "      <td>21.6</td>\n",
              "    </tr>\n",
              "    <tr>\n",
              "      <th>2</th>\n",
              "      <td>0.02729</td>\n",
              "      <td>0.0</td>\n",
              "      <td>7.07</td>\n",
              "      <td>0.0</td>\n",
              "      <td>0.469</td>\n",
              "      <td>7.185</td>\n",
              "      <td>61.1</td>\n",
              "      <td>4.9671</td>\n",
              "      <td>2.0</td>\n",
              "      <td>242.0</td>\n",
              "      <td>17.8</td>\n",
              "      <td>392.83</td>\n",
              "      <td>4.03</td>\n",
              "      <td>34.7</td>\n",
              "    </tr>\n",
              "    <tr>\n",
              "      <th>3</th>\n",
              "      <td>0.03237</td>\n",
              "      <td>0.0</td>\n",
              "      <td>2.18</td>\n",
              "      <td>0.0</td>\n",
              "      <td>0.458</td>\n",
              "      <td>6.998</td>\n",
              "      <td>45.8</td>\n",
              "      <td>6.0622</td>\n",
              "      <td>3.0</td>\n",
              "      <td>222.0</td>\n",
              "      <td>18.7</td>\n",
              "      <td>394.63</td>\n",
              "      <td>2.94</td>\n",
              "      <td>33.4</td>\n",
              "    </tr>\n",
              "    <tr>\n",
              "      <th>4</th>\n",
              "      <td>0.06905</td>\n",
              "      <td>0.0</td>\n",
              "      <td>2.18</td>\n",
              "      <td>0.0</td>\n",
              "      <td>0.458</td>\n",
              "      <td>7.147</td>\n",
              "      <td>54.2</td>\n",
              "      <td>6.0622</td>\n",
              "      <td>3.0</td>\n",
              "      <td>222.0</td>\n",
              "      <td>18.7</td>\n",
              "      <td>396.90</td>\n",
              "      <td>5.33</td>\n",
              "      <td>36.2</td>\n",
              "    </tr>\n",
              "    <tr>\n",
              "      <th>5</th>\n",
              "      <td>0.02985</td>\n",
              "      <td>0.0</td>\n",
              "      <td>2.18</td>\n",
              "      <td>0.0</td>\n",
              "      <td>0.458</td>\n",
              "      <td>6.430</td>\n",
              "      <td>58.7</td>\n",
              "      <td>6.0622</td>\n",
              "      <td>3.0</td>\n",
              "      <td>222.0</td>\n",
              "      <td>18.7</td>\n",
              "      <td>394.12</td>\n",
              "      <td>5.21</td>\n",
              "      <td>28.7</td>\n",
              "    </tr>\n",
              "    <tr>\n",
              "      <th>6</th>\n",
              "      <td>0.08829</td>\n",
              "      <td>12.5</td>\n",
              "      <td>7.87</td>\n",
              "      <td>0.0</td>\n",
              "      <td>0.524</td>\n",
              "      <td>6.012</td>\n",
              "      <td>66.6</td>\n",
              "      <td>5.5605</td>\n",
              "      <td>5.0</td>\n",
              "      <td>311.0</td>\n",
              "      <td>15.2</td>\n",
              "      <td>395.60</td>\n",
              "      <td>12.43</td>\n",
              "      <td>22.9</td>\n",
              "    </tr>\n",
              "    <tr>\n",
              "      <th>7</th>\n",
              "      <td>0.14455</td>\n",
              "      <td>12.5</td>\n",
              "      <td>7.87</td>\n",
              "      <td>0.0</td>\n",
              "      <td>0.524</td>\n",
              "      <td>6.172</td>\n",
              "      <td>96.1</td>\n",
              "      <td>5.9505</td>\n",
              "      <td>5.0</td>\n",
              "      <td>311.0</td>\n",
              "      <td>15.2</td>\n",
              "      <td>396.90</td>\n",
              "      <td>19.15</td>\n",
              "      <td>27.1</td>\n",
              "    </tr>\n",
              "    <tr>\n",
              "      <th>8</th>\n",
              "      <td>0.21124</td>\n",
              "      <td>12.5</td>\n",
              "      <td>7.87</td>\n",
              "      <td>0.0</td>\n",
              "      <td>0.524</td>\n",
              "      <td>5.631</td>\n",
              "      <td>100.0</td>\n",
              "      <td>6.0821</td>\n",
              "      <td>5.0</td>\n",
              "      <td>311.0</td>\n",
              "      <td>15.2</td>\n",
              "      <td>386.63</td>\n",
              "      <td>29.93</td>\n",
              "      <td>16.5</td>\n",
              "    </tr>\n",
              "    <tr>\n",
              "      <th>9</th>\n",
              "      <td>0.17004</td>\n",
              "      <td>12.5</td>\n",
              "      <td>7.87</td>\n",
              "      <td>0.0</td>\n",
              "      <td>0.524</td>\n",
              "      <td>6.004</td>\n",
              "      <td>85.9</td>\n",
              "      <td>6.5921</td>\n",
              "      <td>5.0</td>\n",
              "      <td>311.0</td>\n",
              "      <td>15.2</td>\n",
              "      <td>386.71</td>\n",
              "      <td>17.10</td>\n",
              "      <td>18.9</td>\n",
              "    </tr>\n",
              "  </tbody>\n",
              "</table>\n",
              "</div>"
            ],
            "text/plain": [
              "      CRIM    ZN  INDUS  CHAS    NOX  ...    TAX  PTRATIO       B  LSTAT  MEDV\n",
              "0  0.00632  18.0   2.31   0.0  0.538  ...  296.0     15.3  396.90   4.98  24.0\n",
              "1  0.02731   0.0   7.07   0.0  0.469  ...  242.0     17.8  396.90   9.14  21.6\n",
              "2  0.02729   0.0   7.07   0.0  0.469  ...  242.0     17.8  392.83   4.03  34.7\n",
              "3  0.03237   0.0   2.18   0.0  0.458  ...  222.0     18.7  394.63   2.94  33.4\n",
              "4  0.06905   0.0   2.18   0.0  0.458  ...  222.0     18.7  396.90   5.33  36.2\n",
              "5  0.02985   0.0   2.18   0.0  0.458  ...  222.0     18.7  394.12   5.21  28.7\n",
              "6  0.08829  12.5   7.87   0.0  0.524  ...  311.0     15.2  395.60  12.43  22.9\n",
              "7  0.14455  12.5   7.87   0.0  0.524  ...  311.0     15.2  396.90  19.15  27.1\n",
              "8  0.21124  12.5   7.87   0.0  0.524  ...  311.0     15.2  386.63  29.93  16.5\n",
              "9  0.17004  12.5   7.87   0.0  0.524  ...  311.0     15.2  386.71  17.10  18.9\n",
              "\n",
              "[10 rows x 14 columns]"
            ]
          },
          "metadata": {
            "tags": []
          },
          "execution_count": 5
        }
      ]
    },
    {
      "cell_type": "markdown",
      "metadata": {
        "id": "s2MNbRUiYv-g"
      },
      "source": [
        "3. CONHECENDO OS DADOS\n",
        "\n"
      ]
    },
    {
      "cell_type": "markdown",
      "metadata": {
        "id": "35rP3ZZGbpwz"
      },
      "source": [
        "As variáveis significam:\n",
        "\n",
        "CRIM - taxa de crime per capita por cidade;\n",
        "\n",
        "ZN - proporção de terrenos residenciais zoneados para lotes com mais de 25,000 pés quadrados. ( 25,000 ft^2 = 2,322.576 notação US);\n",
        "\n",
        "INDUS - proporção de acres de negócios não varejistas por cidade. ( 1 acre = 4046.86 m^2 notação US);\n",
        "\n",
        "CHAS - 1 se a área limita o rio Charles, 0 se não limita;\n",
        "\n",
        "NOX - concentração de óxidos nítricos (partes por 10 milhões);  Representa a qualidade do ar.\n",
        "\n",
        "RM - número médio de quartos por habitação;\n",
        "\n",
        "AGE - proporção de unidades ocupadas pelo proprietário construídas antes de 1940;\n",
        "\n",
        "DIS - distâncias ponderadas para cinco centros de empregos de Boston;\n",
        "\n",
        "RAD - índice de acessibilidade a rodovias radiais;\n",
        "\n",
        "TAX - taxa de imposto de propriedade de valor total por $ 10.000;\n",
        "\n",
        "PTRATIO - proporção aluno-professor por cidade; \n",
        "\n",
        "B => 1000 (Bk - 0,63) ^ 2 onde Bk é a proporção de negros por cidade; (pq a função é dessa forma? Pq levar isso em conta? Não é racista?) Não seria melhor retirar essa feature?\n",
        "\n",
        "LSTAT - % status inferior da população; É  1/2 * (proporção de adultos sem algum ensino médio e proporção de trabalhadores do sexo masculino classificados como trabalhadores).\n",
        "\n",
        "MEDV - Valor médio das casas ocupadas pelo proprietário em US $ 1.000. Os valores baixos devem ser pq os dados são de 1978.\n",
        "\n"
      ]
    },
    {
      "cell_type": "markdown",
      "metadata": {
        "id": "OUADS78g3OaV"
      },
      "source": [
        "Vemos que todas as variáveis já possuem valor numérico. Acima vimos que as 10 primeiras instâncias indicam habitações que não limitam o rio Charles (variável CHAS = 0.0). Então vamos observar uma amostra de 10 instâncias pseudoaleatórias."
      ]
    },
    {
      "cell_type": "code",
      "metadata": {
        "colab": {
          "base_uri": "https://localhost:8080/",
          "height": 363
        },
        "id": "-Xb4WBdp4Mq1",
        "outputId": "c2d451b1-89a9-4cb2-878e-7c69a7d818de"
      },
      "source": [
        "housing.sample(n = 10, random_state = seed) "
      ],
      "execution_count": null,
      "outputs": [
        {
          "output_type": "execute_result",
          "data": {
            "text/html": [
              "<div>\n",
              "<style scoped>\n",
              "    .dataframe tbody tr th:only-of-type {\n",
              "        vertical-align: middle;\n",
              "    }\n",
              "\n",
              "    .dataframe tbody tr th {\n",
              "        vertical-align: top;\n",
              "    }\n",
              "\n",
              "    .dataframe thead th {\n",
              "        text-align: right;\n",
              "    }\n",
              "</style>\n",
              "<table border=\"1\" class=\"dataframe\">\n",
              "  <thead>\n",
              "    <tr style=\"text-align: right;\">\n",
              "      <th></th>\n",
              "      <th>CRIM</th>\n",
              "      <th>ZN</th>\n",
              "      <th>INDUS</th>\n",
              "      <th>CHAS</th>\n",
              "      <th>NOX</th>\n",
              "      <th>RM</th>\n",
              "      <th>AGE</th>\n",
              "      <th>DIS</th>\n",
              "      <th>RAD</th>\n",
              "      <th>TAX</th>\n",
              "      <th>PTRATIO</th>\n",
              "      <th>B</th>\n",
              "      <th>LSTAT</th>\n",
              "      <th>MEDV</th>\n",
              "    </tr>\n",
              "  </thead>\n",
              "  <tbody>\n",
              "    <tr>\n",
              "      <th>173</th>\n",
              "      <td>0.09178</td>\n",
              "      <td>0.0</td>\n",
              "      <td>4.05</td>\n",
              "      <td>0.0</td>\n",
              "      <td>0.510</td>\n",
              "      <td>6.416</td>\n",
              "      <td>84.1</td>\n",
              "      <td>2.6463</td>\n",
              "      <td>5.0</td>\n",
              "      <td>296.0</td>\n",
              "      <td>16.6</td>\n",
              "      <td>395.50</td>\n",
              "      <td>9.04</td>\n",
              "      <td>23.6</td>\n",
              "    </tr>\n",
              "    <tr>\n",
              "      <th>274</th>\n",
              "      <td>0.05644</td>\n",
              "      <td>40.0</td>\n",
              "      <td>6.41</td>\n",
              "      <td>1.0</td>\n",
              "      <td>0.447</td>\n",
              "      <td>6.758</td>\n",
              "      <td>32.9</td>\n",
              "      <td>4.0776</td>\n",
              "      <td>4.0</td>\n",
              "      <td>254.0</td>\n",
              "      <td>17.6</td>\n",
              "      <td>396.90</td>\n",
              "      <td>3.53</td>\n",
              "      <td>32.4</td>\n",
              "    </tr>\n",
              "    <tr>\n",
              "      <th>491</th>\n",
              "      <td>0.10574</td>\n",
              "      <td>0.0</td>\n",
              "      <td>27.74</td>\n",
              "      <td>0.0</td>\n",
              "      <td>0.609</td>\n",
              "      <td>5.983</td>\n",
              "      <td>98.8</td>\n",
              "      <td>1.8681</td>\n",
              "      <td>4.0</td>\n",
              "      <td>711.0</td>\n",
              "      <td>20.1</td>\n",
              "      <td>390.11</td>\n",
              "      <td>18.07</td>\n",
              "      <td>13.6</td>\n",
              "    </tr>\n",
              "    <tr>\n",
              "      <th>72</th>\n",
              "      <td>0.09164</td>\n",
              "      <td>0.0</td>\n",
              "      <td>10.81</td>\n",
              "      <td>0.0</td>\n",
              "      <td>0.413</td>\n",
              "      <td>6.065</td>\n",
              "      <td>7.8</td>\n",
              "      <td>5.2873</td>\n",
              "      <td>4.0</td>\n",
              "      <td>305.0</td>\n",
              "      <td>19.2</td>\n",
              "      <td>390.91</td>\n",
              "      <td>5.52</td>\n",
              "      <td>22.8</td>\n",
              "    </tr>\n",
              "    <tr>\n",
              "      <th>452</th>\n",
              "      <td>5.09017</td>\n",
              "      <td>0.0</td>\n",
              "      <td>18.10</td>\n",
              "      <td>0.0</td>\n",
              "      <td>0.713</td>\n",
              "      <td>6.297</td>\n",
              "      <td>91.8</td>\n",
              "      <td>2.3682</td>\n",
              "      <td>24.0</td>\n",
              "      <td>666.0</td>\n",
              "      <td>20.2</td>\n",
              "      <td>385.09</td>\n",
              "      <td>17.27</td>\n",
              "      <td>16.1</td>\n",
              "    </tr>\n",
              "    <tr>\n",
              "      <th>76</th>\n",
              "      <td>0.10153</td>\n",
              "      <td>0.0</td>\n",
              "      <td>12.83</td>\n",
              "      <td>0.0</td>\n",
              "      <td>0.437</td>\n",
              "      <td>6.279</td>\n",
              "      <td>74.5</td>\n",
              "      <td>4.0522</td>\n",
              "      <td>5.0</td>\n",
              "      <td>398.0</td>\n",
              "      <td>18.7</td>\n",
              "      <td>373.66</td>\n",
              "      <td>11.97</td>\n",
              "      <td>20.0</td>\n",
              "    </tr>\n",
              "    <tr>\n",
              "      <th>316</th>\n",
              "      <td>0.31827</td>\n",
              "      <td>0.0</td>\n",
              "      <td>9.90</td>\n",
              "      <td>0.0</td>\n",
              "      <td>0.544</td>\n",
              "      <td>5.914</td>\n",
              "      <td>83.2</td>\n",
              "      <td>3.9986</td>\n",
              "      <td>4.0</td>\n",
              "      <td>304.0</td>\n",
              "      <td>18.4</td>\n",
              "      <td>390.70</td>\n",
              "      <td>18.33</td>\n",
              "      <td>17.8</td>\n",
              "    </tr>\n",
              "    <tr>\n",
              "      <th>140</th>\n",
              "      <td>0.29090</td>\n",
              "      <td>0.0</td>\n",
              "      <td>21.89</td>\n",
              "      <td>0.0</td>\n",
              "      <td>0.624</td>\n",
              "      <td>6.174</td>\n",
              "      <td>93.6</td>\n",
              "      <td>1.6119</td>\n",
              "      <td>4.0</td>\n",
              "      <td>437.0</td>\n",
              "      <td>21.2</td>\n",
              "      <td>388.08</td>\n",
              "      <td>24.16</td>\n",
              "      <td>14.0</td>\n",
              "    </tr>\n",
              "    <tr>\n",
              "      <th>471</th>\n",
              "      <td>4.03841</td>\n",
              "      <td>0.0</td>\n",
              "      <td>18.10</td>\n",
              "      <td>0.0</td>\n",
              "      <td>0.532</td>\n",
              "      <td>6.229</td>\n",
              "      <td>90.7</td>\n",
              "      <td>3.0993</td>\n",
              "      <td>24.0</td>\n",
              "      <td>666.0</td>\n",
              "      <td>20.2</td>\n",
              "      <td>395.33</td>\n",
              "      <td>12.87</td>\n",
              "      <td>19.6</td>\n",
              "    </tr>\n",
              "    <tr>\n",
              "      <th>500</th>\n",
              "      <td>0.22438</td>\n",
              "      <td>0.0</td>\n",
              "      <td>9.69</td>\n",
              "      <td>0.0</td>\n",
              "      <td>0.585</td>\n",
              "      <td>6.027</td>\n",
              "      <td>79.7</td>\n",
              "      <td>2.4982</td>\n",
              "      <td>6.0</td>\n",
              "      <td>391.0</td>\n",
              "      <td>19.2</td>\n",
              "      <td>396.90</td>\n",
              "      <td>14.33</td>\n",
              "      <td>16.8</td>\n",
              "    </tr>\n",
              "  </tbody>\n",
              "</table>\n",
              "</div>"
            ],
            "text/plain": [
              "        CRIM    ZN  INDUS  CHAS    NOX  ...    TAX  PTRATIO       B  LSTAT  MEDV\n",
              "173  0.09178   0.0   4.05   0.0  0.510  ...  296.0     16.6  395.50   9.04  23.6\n",
              "274  0.05644  40.0   6.41   1.0  0.447  ...  254.0     17.6  396.90   3.53  32.4\n",
              "491  0.10574   0.0  27.74   0.0  0.609  ...  711.0     20.1  390.11  18.07  13.6\n",
              "72   0.09164   0.0  10.81   0.0  0.413  ...  305.0     19.2  390.91   5.52  22.8\n",
              "452  5.09017   0.0  18.10   0.0  0.713  ...  666.0     20.2  385.09  17.27  16.1\n",
              "76   0.10153   0.0  12.83   0.0  0.437  ...  398.0     18.7  373.66  11.97  20.0\n",
              "316  0.31827   0.0   9.90   0.0  0.544  ...  304.0     18.4  390.70  18.33  17.8\n",
              "140  0.29090   0.0  21.89   0.0  0.624  ...  437.0     21.2  388.08  24.16  14.0\n",
              "471  4.03841   0.0  18.10   0.0  0.532  ...  666.0     20.2  395.33  12.87  19.6\n",
              "500  0.22438   0.0   9.69   0.0  0.585  ...  391.0     19.2  396.90  14.33  16.8\n",
              "\n",
              "[10 rows x 14 columns]"
            ]
          },
          "metadata": {
            "tags": []
          },
          "execution_count": 6
        }
      ]
    },
    {
      "cell_type": "markdown",
      "metadata": {
        "id": "vmcgYMAc5ibQ"
      },
      "source": [
        "Vamos verificar agora quantas instâncias estão em cada categoria da variável CHAS. Vemos que a maioria das habitações realmente não limita o Rio Charles. "
      ]
    },
    {
      "cell_type": "code",
      "metadata": {
        "colab": {
          "base_uri": "https://localhost:8080/"
        },
        "id": "JNQa18iw5vGf",
        "outputId": "116dd93e-a90c-4d96-ea7e-d1d2668057f6"
      },
      "source": [
        "housing[\"CHAS\"].value_counts()"
      ],
      "execution_count": null,
      "outputs": [
        {
          "output_type": "execute_result",
          "data": {
            "text/plain": [
              "0.0    471\n",
              "1.0     35\n",
              "Name: CHAS, dtype: int64"
            ]
          },
          "metadata": {
            "tags": []
          },
          "execution_count": 7
        }
      ]
    },
    {
      "cell_type": "code",
      "metadata": {
        "colab": {
          "base_uri": "https://localhost:8080/"
        },
        "id": "JiB-r8qu4KZN",
        "outputId": "957d17c0-bd1d-47ca-f4c6-d3f07b6d86fd"
      },
      "source": [
        "housing[\"RAD\"].value_counts()"
      ],
      "execution_count": null,
      "outputs": [
        {
          "output_type": "execute_result",
          "data": {
            "text/plain": [
              "24.0    132\n",
              "5.0     115\n",
              "4.0     110\n",
              "3.0      38\n",
              "6.0      26\n",
              "8.0      24\n",
              "2.0      24\n",
              "1.0      20\n",
              "7.0      17\n",
              "Name: RAD, dtype: int64"
            ]
          },
          "metadata": {
            "tags": []
          },
          "execution_count": 8
        }
      ]
    },
    {
      "cell_type": "code",
      "metadata": {
        "colab": {
          "base_uri": "https://localhost:8080/"
        },
        "id": "0oTAs5614jYB",
        "outputId": "3b3c6d85-bbdf-452f-a133-ea5b67caf2ed"
      },
      "source": [
        "housing[\"ZN\"].value_counts()"
      ],
      "execution_count": null,
      "outputs": [
        {
          "output_type": "execute_result",
          "data": {
            "text/plain": [
              "0.0      372\n",
              "20.0      21\n",
              "80.0      15\n",
              "12.5      10\n",
              "22.0      10\n",
              "25.0      10\n",
              "40.0       7\n",
              "45.0       6\n",
              "30.0       6\n",
              "90.0       5\n",
              "21.0       4\n",
              "95.0       4\n",
              "60.0       4\n",
              "33.0       4\n",
              "75.0       3\n",
              "35.0       3\n",
              "28.0       3\n",
              "55.0       3\n",
              "52.5       3\n",
              "70.0       3\n",
              "34.0       3\n",
              "85.0       2\n",
              "82.5       2\n",
              "17.5       1\n",
              "100.0      1\n",
              "18.0       1\n",
              "Name: ZN, dtype: int64"
            ]
          },
          "metadata": {
            "tags": []
          },
          "execution_count": 9
        }
      ]
    },
    {
      "cell_type": "markdown",
      "metadata": {
        "id": "qWj8sEqn43be"
      },
      "source": [
        "Com o comando abaixo notamos que não existem dados faltantes."
      ]
    },
    {
      "cell_type": "code",
      "metadata": {
        "colab": {
          "base_uri": "https://localhost:8080/"
        },
        "id": "IectnC9s48A9",
        "outputId": "665260c7-91d0-410b-b11a-e32dd713cc8f"
      },
      "source": [
        "housing.info()"
      ],
      "execution_count": null,
      "outputs": [
        {
          "output_type": "stream",
          "text": [
            "<class 'pandas.core.frame.DataFrame'>\n",
            "RangeIndex: 506 entries, 0 to 505\n",
            "Data columns (total 14 columns):\n",
            " #   Column   Non-Null Count  Dtype  \n",
            "---  ------   --------------  -----  \n",
            " 0   CRIM     506 non-null    float64\n",
            " 1   ZN       506 non-null    float64\n",
            " 2   INDUS    506 non-null    float64\n",
            " 3   CHAS     506 non-null    float64\n",
            " 4   NOX      506 non-null    float64\n",
            " 5   RM       506 non-null    float64\n",
            " 6   AGE      506 non-null    float64\n",
            " 7   DIS      506 non-null    float64\n",
            " 8   RAD      506 non-null    float64\n",
            " 9   TAX      506 non-null    float64\n",
            " 10  PTRATIO  506 non-null    float64\n",
            " 11  B        506 non-null    float64\n",
            " 12  LSTAT    506 non-null    float64\n",
            " 13  MEDV     506 non-null    float64\n",
            "dtypes: float64(14)\n",
            "memory usage: 55.5 KB\n"
          ],
          "name": "stdout"
        }
      ]
    },
    {
      "cell_type": "markdown",
      "metadata": {
        "id": "tRCmuMfG9uux"
      },
      "source": [
        "Vejamos algumas medidas resumo. A taxa de impostos de propriedade (TAX) é a variável que possui maior desvio padrão."
      ]
    },
    {
      "cell_type": "code",
      "metadata": {
        "colab": {
          "base_uri": "https://localhost:8080/",
          "height": 320
        },
        "id": "odEGSnY-9yuC",
        "outputId": "99f88174-0410-44e2-82c7-2e70bbe79996"
      },
      "source": [
        "# medidas resumo.\n",
        "housing.describe()"
      ],
      "execution_count": null,
      "outputs": [
        {
          "output_type": "execute_result",
          "data": {
            "text/html": [
              "<div>\n",
              "<style scoped>\n",
              "    .dataframe tbody tr th:only-of-type {\n",
              "        vertical-align: middle;\n",
              "    }\n",
              "\n",
              "    .dataframe tbody tr th {\n",
              "        vertical-align: top;\n",
              "    }\n",
              "\n",
              "    .dataframe thead th {\n",
              "        text-align: right;\n",
              "    }\n",
              "</style>\n",
              "<table border=\"1\" class=\"dataframe\">\n",
              "  <thead>\n",
              "    <tr style=\"text-align: right;\">\n",
              "      <th></th>\n",
              "      <th>CRIM</th>\n",
              "      <th>ZN</th>\n",
              "      <th>INDUS</th>\n",
              "      <th>CHAS</th>\n",
              "      <th>NOX</th>\n",
              "      <th>RM</th>\n",
              "      <th>AGE</th>\n",
              "      <th>DIS</th>\n",
              "      <th>RAD</th>\n",
              "      <th>TAX</th>\n",
              "      <th>PTRATIO</th>\n",
              "      <th>B</th>\n",
              "      <th>LSTAT</th>\n",
              "      <th>MEDV</th>\n",
              "    </tr>\n",
              "  </thead>\n",
              "  <tbody>\n",
              "    <tr>\n",
              "      <th>count</th>\n",
              "      <td>506.000000</td>\n",
              "      <td>506.000000</td>\n",
              "      <td>506.000000</td>\n",
              "      <td>506.000000</td>\n",
              "      <td>506.000000</td>\n",
              "      <td>506.000000</td>\n",
              "      <td>506.000000</td>\n",
              "      <td>506.000000</td>\n",
              "      <td>506.000000</td>\n",
              "      <td>506.000000</td>\n",
              "      <td>506.000000</td>\n",
              "      <td>506.000000</td>\n",
              "      <td>506.000000</td>\n",
              "      <td>506.000000</td>\n",
              "    </tr>\n",
              "    <tr>\n",
              "      <th>mean</th>\n",
              "      <td>3.613524</td>\n",
              "      <td>11.363636</td>\n",
              "      <td>11.136779</td>\n",
              "      <td>0.069170</td>\n",
              "      <td>0.554695</td>\n",
              "      <td>6.284634</td>\n",
              "      <td>68.574901</td>\n",
              "      <td>3.795043</td>\n",
              "      <td>9.549407</td>\n",
              "      <td>408.237154</td>\n",
              "      <td>18.455534</td>\n",
              "      <td>356.674032</td>\n",
              "      <td>12.653063</td>\n",
              "      <td>22.532806</td>\n",
              "    </tr>\n",
              "    <tr>\n",
              "      <th>std</th>\n",
              "      <td>8.601545</td>\n",
              "      <td>23.322453</td>\n",
              "      <td>6.860353</td>\n",
              "      <td>0.253994</td>\n",
              "      <td>0.115878</td>\n",
              "      <td>0.702617</td>\n",
              "      <td>28.148861</td>\n",
              "      <td>2.105710</td>\n",
              "      <td>8.707259</td>\n",
              "      <td>168.537116</td>\n",
              "      <td>2.164946</td>\n",
              "      <td>91.294864</td>\n",
              "      <td>7.141062</td>\n",
              "      <td>9.197104</td>\n",
              "    </tr>\n",
              "    <tr>\n",
              "      <th>min</th>\n",
              "      <td>0.006320</td>\n",
              "      <td>0.000000</td>\n",
              "      <td>0.460000</td>\n",
              "      <td>0.000000</td>\n",
              "      <td>0.385000</td>\n",
              "      <td>3.561000</td>\n",
              "      <td>2.900000</td>\n",
              "      <td>1.129600</td>\n",
              "      <td>1.000000</td>\n",
              "      <td>187.000000</td>\n",
              "      <td>12.600000</td>\n",
              "      <td>0.320000</td>\n",
              "      <td>1.730000</td>\n",
              "      <td>5.000000</td>\n",
              "    </tr>\n",
              "    <tr>\n",
              "      <th>25%</th>\n",
              "      <td>0.082045</td>\n",
              "      <td>0.000000</td>\n",
              "      <td>5.190000</td>\n",
              "      <td>0.000000</td>\n",
              "      <td>0.449000</td>\n",
              "      <td>5.885500</td>\n",
              "      <td>45.025000</td>\n",
              "      <td>2.100175</td>\n",
              "      <td>4.000000</td>\n",
              "      <td>279.000000</td>\n",
              "      <td>17.400000</td>\n",
              "      <td>375.377500</td>\n",
              "      <td>6.950000</td>\n",
              "      <td>17.025000</td>\n",
              "    </tr>\n",
              "    <tr>\n",
              "      <th>50%</th>\n",
              "      <td>0.256510</td>\n",
              "      <td>0.000000</td>\n",
              "      <td>9.690000</td>\n",
              "      <td>0.000000</td>\n",
              "      <td>0.538000</td>\n",
              "      <td>6.208500</td>\n",
              "      <td>77.500000</td>\n",
              "      <td>3.207450</td>\n",
              "      <td>5.000000</td>\n",
              "      <td>330.000000</td>\n",
              "      <td>19.050000</td>\n",
              "      <td>391.440000</td>\n",
              "      <td>11.360000</td>\n",
              "      <td>21.200000</td>\n",
              "    </tr>\n",
              "    <tr>\n",
              "      <th>75%</th>\n",
              "      <td>3.677083</td>\n",
              "      <td>12.500000</td>\n",
              "      <td>18.100000</td>\n",
              "      <td>0.000000</td>\n",
              "      <td>0.624000</td>\n",
              "      <td>6.623500</td>\n",
              "      <td>94.075000</td>\n",
              "      <td>5.188425</td>\n",
              "      <td>24.000000</td>\n",
              "      <td>666.000000</td>\n",
              "      <td>20.200000</td>\n",
              "      <td>396.225000</td>\n",
              "      <td>16.955000</td>\n",
              "      <td>25.000000</td>\n",
              "    </tr>\n",
              "    <tr>\n",
              "      <th>max</th>\n",
              "      <td>88.976200</td>\n",
              "      <td>100.000000</td>\n",
              "      <td>27.740000</td>\n",
              "      <td>1.000000</td>\n",
              "      <td>0.871000</td>\n",
              "      <td>8.780000</td>\n",
              "      <td>100.000000</td>\n",
              "      <td>12.126500</td>\n",
              "      <td>24.000000</td>\n",
              "      <td>711.000000</td>\n",
              "      <td>22.000000</td>\n",
              "      <td>396.900000</td>\n",
              "      <td>37.970000</td>\n",
              "      <td>50.000000</td>\n",
              "    </tr>\n",
              "  </tbody>\n",
              "</table>\n",
              "</div>"
            ],
            "text/plain": [
              "             CRIM          ZN       INDUS  ...           B       LSTAT        MEDV\n",
              "count  506.000000  506.000000  506.000000  ...  506.000000  506.000000  506.000000\n",
              "mean     3.613524   11.363636   11.136779  ...  356.674032   12.653063   22.532806\n",
              "std      8.601545   23.322453    6.860353  ...   91.294864    7.141062    9.197104\n",
              "min      0.006320    0.000000    0.460000  ...    0.320000    1.730000    5.000000\n",
              "25%      0.082045    0.000000    5.190000  ...  375.377500    6.950000   17.025000\n",
              "50%      0.256510    0.000000    9.690000  ...  391.440000   11.360000   21.200000\n",
              "75%      3.677083   12.500000   18.100000  ...  396.225000   16.955000   25.000000\n",
              "max     88.976200  100.000000   27.740000  ...  396.900000   37.970000   50.000000\n",
              "\n",
              "[8 rows x 14 columns]"
            ]
          },
          "metadata": {
            "tags": []
          },
          "execution_count": 11
        }
      ]
    },
    {
      "cell_type": "markdown",
      "metadata": {
        "id": "Gv5PKy25-kiC"
      },
      "source": [
        "Também podemos avaliar alguns histogramas. O número médio de quartos por habitação (RM) e o preço médio das habitações (MEDV) possuem uma distribuição aproximadamente gaussiana. "
      ]
    },
    {
      "cell_type": "code",
      "metadata": {
        "colab": {
          "base_uri": "https://localhost:8080/",
          "height": 882
        },
        "id": "mtoj0RyK-p4i",
        "outputId": "dcc39a49-422e-4996-bad9-11523532b6e3"
      },
      "source": [
        "%matplotlib inline\n",
        "import matplotlib.pyplot as plt\n",
        "housing.hist(bins=50, figsize=(20,15))\n",
        "plt.show()"
      ],
      "execution_count": null,
      "outputs": [
        {
          "output_type": "display_data",
          "data": {
            "image/png": "[encoded data removed]",
            "text/plain": [
              "<Figure size 1440x1080 with 16 Axes>"
            ]
          },
          "metadata": {
            "tags": [],
            "needs_background": "light"
          }
        }
      ]
    },
    {
      "cell_type": "markdown",
      "metadata": {
        "id": "D_MO-bVxByoK"
      },
      "source": [
        "4. SEPARANDO O CONJUNTO DE DADOS \n",
        "\n",
        "A função  train_test_split  tem a variável shuffle = True como padrão, o que permite embaralhar os dados antes de separar nos conjuntos de treino e teste. Vejamos a medida resumo da média de valores das habitações. Vemos que o valor mediano das casas está entre 13 mil doláres e 31 mil doláres. "
      ]
    },
    {
      "cell_type": "code",
      "metadata": {
        "colab": {
          "base_uri": "https://localhost:8080/"
        },
        "id": "QchwR3S760u5",
        "outputId": "de2b95de-d967-479a-9471-34dd169d8b21"
      },
      "source": [
        "housing[\"MEDV\"].describe()"
      ],
      "execution_count": null,
      "outputs": [
        {
          "output_type": "execute_result",
          "data": {
            "text/plain": [
              "count    506.000000\n",
              "mean      22.532806\n",
              "std        9.197104\n",
              "min        5.000000\n",
              "25%       17.025000\n",
              "50%       21.200000\n",
              "75%       25.000000\n",
              "max       50.000000\n",
              "Name: MEDV, dtype: float64"
            ]
          },
          "metadata": {
            "tags": []
          },
          "execution_count": 13
        }
      ]
    },
    {
      "cell_type": "markdown",
      "metadata": {
        "id": "rEMV6I61-Nk2"
      },
      "source": [
        "Então é melhor utilizar uma amostra estratificada. Nesse caso, 5 estratos de 9 mil doláres."
      ]
    },
    {
      "cell_type": "code",
      "metadata": {
        "id": "ej5SHrT6BGyV"
      },
      "source": [
        "housing[\"medv_cat\"] = pd.cut(housing[\"MEDV\"], \n",
        "                               bins=[0, 9, 18, 27, 36, np.inf],\n",
        "                               labels=[1,2,3,4,5])"
      ],
      "execution_count": null,
      "outputs": []
    },
    {
      "cell_type": "code",
      "metadata": {
        "colab": {
          "base_uri": "https://localhost:8080/",
          "height": 286
        },
        "id": "UAiYpqAM-dHk",
        "outputId": "b0d7a825-ec6c-4c84-bc18-b1fc0f2cf1e0"
      },
      "source": [
        "housing[\"medv_cat\"].hist()"
      ],
      "execution_count": null,
      "outputs": [
        {
          "output_type": "execute_result",
          "data": {
            "text/plain": [
              "<matplotlib.axes._subplots.AxesSubplot at 0x7f9fc48dc198>"
            ]
          },
          "metadata": {
            "tags": []
          },
          "execution_count": 15
        },
        {
          "output_type": "display_data",
          "data": {
            "image/png": "[encoded data removed]",
            "text/plain": [
              "<Figure size 432x288 with 1 Axes>"
            ]
          },
          "metadata": {
            "tags": [],
            "needs_background": "light"
          }
        }
      ]
    },
    {
      "cell_type": "code",
      "metadata": {
        "scrolled": true,
        "id": "NuMgAShs8MzJ",
        "colab": {
          "base_uri": "https://localhost:8080/"
        },
        "outputId": "62af8b00-be87-4023-99cd-8b33a6a9c385"
      },
      "source": [
        "housing[\"medv_cat\"].value_counts()"
      ],
      "execution_count": null,
      "outputs": [
        {
          "output_type": "execute_result",
          "data": {
            "text/plain": [
              "3    245\n",
              "2    128\n",
              "4     69\n",
              "5     43\n",
              "1     21\n",
              "Name: medv_cat, dtype: int64"
            ]
          },
          "metadata": {
            "tags": []
          },
          "execution_count": 16
        }
      ]
    },
    {
      "cell_type": "code",
      "metadata": {
        "id": "przR0ZBZ8MzT"
      },
      "source": [
        "from sklearn.model_selection import StratifiedShuffleSplit\n",
        "\n",
        "split = StratifiedShuffleSplit(n_splits=1, test_size=0.2, random_state=seed)\n",
        "\n",
        "for train_index, test_index in split.split(housing, housing[\"medv_cat\"]):\n",
        "    strat_train_set = housing.loc[train_index]\n",
        "    strat_test_set = housing.loc[test_index]"
      ],
      "execution_count": null,
      "outputs": []
    },
    {
      "cell_type": "markdown",
      "metadata": {
        "id": "bML_oMbXauWE"
      },
      "source": [
        "Vejamos se funcionou, olhando a proporção de cada categoria os conjuntos:"
      ]
    },
    {
      "cell_type": "code",
      "metadata": {
        "colab": {
          "base_uri": "https://localhost:8080/"
        },
        "id": "yc1GETpWbDBr",
        "outputId": "cf571ef8-c7ab-487f-cdb0-096ea883d099"
      },
      "source": [
        "strat_train_set[\"medv_cat\"].value_counts() / len(strat_test_set)"
      ],
      "execution_count": null,
      "outputs": [
        {
          "output_type": "execute_result",
          "data": {
            "text/plain": [
              "3    1.921569\n",
              "2    1.000000\n",
              "4    0.539216\n",
              "5    0.333333\n",
              "1    0.166667\n",
              "Name: medv_cat, dtype: float64"
            ]
          },
          "metadata": {
            "tags": []
          },
          "execution_count": 18
        }
      ]
    },
    {
      "cell_type": "code",
      "metadata": {
        "colab": {
          "base_uri": "https://localhost:8080/"
        },
        "id": "WQsCQivraxc9",
        "outputId": "4322be6c-73a9-4553-b2de-b40faaa18633"
      },
      "source": [
        "strat_test_set[\"medv_cat\"].value_counts() / len(strat_test_set) #Proporção de cada categoria em strat_test_set"
      ],
      "execution_count": null,
      "outputs": [
        {
          "output_type": "execute_result",
          "data": {
            "text/plain": [
              "3    0.480392\n",
              "2    0.254902\n",
              "4    0.137255\n",
              "5    0.088235\n",
              "1    0.039216\n",
              "Name: medv_cat, dtype: float64"
            ]
          },
          "metadata": {
            "tags": []
          },
          "execution_count": 19
        }
      ]
    },
    {
      "cell_type": "code",
      "metadata": {
        "colab": {
          "base_uri": "https://localhost:8080/"
        },
        "id": "RxXvtOPKbP_5",
        "outputId": "8c77ab1a-e5dd-4746-cfad-b24d527b69bb"
      },
      "source": [
        "housing[\"medv_cat\"].value_counts() / len(housing) #Proporção de cada categoria em housing"
      ],
      "execution_count": null,
      "outputs": [
        {
          "output_type": "execute_result",
          "data": {
            "text/plain": [
              "3    0.484190\n",
              "2    0.252964\n",
              "4    0.136364\n",
              "5    0.084980\n",
              "1    0.041502\n",
              "Name: medv_cat, dtype: float64"
            ]
          },
          "metadata": {
            "tags": []
          },
          "execution_count": 20
        }
      ]
    },
    {
      "cell_type": "markdown",
      "metadata": {
        "id": "bKrdkZB4iam5"
      },
      "source": [
        "Vamos remover o atributo \"medv_cat\" dos conjuntos strat_train_set e strat_test_set"
      ]
    },
    {
      "cell_type": "code",
      "metadata": {
        "id": "a1bB4Va5ieZa"
      },
      "source": [
        "for set_ in (strat_train_set, strat_test_set):\n",
        "    set_.drop(\"medv_cat\", axis=1, inplace=True)"
      ],
      "execution_count": null,
      "outputs": []
    },
    {
      "cell_type": "markdown",
      "metadata": {
        "id": "eCucVkuLbfCM"
      },
      "source": [
        "5. VISUALIZANDO OS DADOS "
      ]
    },
    {
      "cell_type": "code",
      "metadata": {
        "id": "uGYSWxqk8Mzv"
      },
      "source": [
        "housing = strat_train_set.copy() #Importante criar uma cópia! "
      ],
      "execution_count": null,
      "outputs": []
    },
    {
      "cell_type": "code",
      "metadata": {
        "colab": {
          "base_uri": "https://localhost:8080/",
          "height": 304
        },
        "id": "V7_C_dK1bxmJ",
        "outputId": "4042ff74-045b-4b85-df66-e973b6bed3fa"
      },
      "source": [
        "# Vejamos um gráfico que relaciona \"RM\" com \"TAX\".\n",
        "housing.plot(kind=\"scatter\", x=\"RM\", y=\"TAX\")"
      ],
      "execution_count": null,
      "outputs": [
        {
          "output_type": "execute_result",
          "data": {
            "text/plain": [
              "<matplotlib.axes._subplots.AxesSubplot at 0x7f9fc505cfd0>"
            ]
          },
          "metadata": {
            "tags": []
          },
          "execution_count": 23
        },
        {
          "output_type": "display_data",
          "data": {
            "image/png": "[encoded data removed]",
            "text/plain": [
              "<Figure size 432x288 with 1 Axes>"
            ]
          },
          "metadata": {
            "tags": [],
            "needs_background": "light"
          }
        }
      ]
    },
    {
      "cell_type": "markdown",
      "metadata": {
        "id": "MwqvHxykdvey"
      },
      "source": [
        "Esses dados já sofreram algum tratamento? Há muitas linhas horizontais.\n",
        "\n",
        "Vejamos a correlação entre as variáveis."
      ]
    },
    {
      "cell_type": "code",
      "metadata": {
        "colab": {
          "base_uri": "https://localhost:8080/",
          "height": 489
        },
        "id": "xRZFhloMeCbE",
        "outputId": "5849594c-458d-41be-8600-da042861bba6"
      },
      "source": [
        "corr_matrix = housing.corr()\n",
        "corr_matrix "
      ],
      "execution_count": null,
      "outputs": [
        {
          "output_type": "execute_result",
          "data": {
            "text/html": [
              "<div>\n",
              "<style scoped>\n",
              "    .dataframe tbody tr th:only-of-type {\n",
              "        vertical-align: middle;\n",
              "    }\n",
              "\n",
              "    .dataframe tbody tr th {\n",
              "        vertical-align: top;\n",
              "    }\n",
              "\n",
              "    .dataframe thead th {\n",
              "        text-align: right;\n",
              "    }\n",
              "</style>\n",
              "<table border=\"1\" class=\"dataframe\">\n",
              "  <thead>\n",
              "    <tr style=\"text-align: right;\">\n",
              "      <th></th>\n",
              "      <th>CRIM</th>\n",
              "      <th>ZN</th>\n",
              "      <th>INDUS</th>\n",
              "      <th>CHAS</th>\n",
              "      <th>NOX</th>\n",
              "      <th>RM</th>\n",
              "      <th>AGE</th>\n",
              "      <th>DIS</th>\n",
              "      <th>RAD</th>\n",
              "      <th>TAX</th>\n",
              "      <th>PTRATIO</th>\n",
              "      <th>B</th>\n",
              "      <th>LSTAT</th>\n",
              "      <th>MEDV</th>\n",
              "    </tr>\n",
              "  </thead>\n",
              "  <tbody>\n",
              "    <tr>\n",
              "      <th>CRIM</th>\n",
              "      <td>1.000000</td>\n",
              "      <td>-0.229831</td>\n",
              "      <td>0.470953</td>\n",
              "      <td>-0.053583</td>\n",
              "      <td>0.494745</td>\n",
              "      <td>-0.296291</td>\n",
              "      <td>0.398516</td>\n",
              "      <td>-0.433905</td>\n",
              "      <td>0.719368</td>\n",
              "      <td>0.670963</td>\n",
              "      <td>0.330721</td>\n",
              "      <td>-0.479137</td>\n",
              "      <td>0.527844</td>\n",
              "      <td>-0.412906</td>\n",
              "    </tr>\n",
              "    <tr>\n",
              "      <th>ZN</th>\n",
              "      <td>-0.229831</td>\n",
              "      <td>1.000000</td>\n",
              "      <td>-0.529899</td>\n",
              "      <td>-0.038894</td>\n",
              "      <td>-0.513975</td>\n",
              "      <td>0.305802</td>\n",
              "      <td>-0.575976</td>\n",
              "      <td>0.664273</td>\n",
              "      <td>-0.308657</td>\n",
              "      <td>-0.302979</td>\n",
              "      <td>-0.371035</td>\n",
              "      <td>0.177351</td>\n",
              "      <td>-0.393676</td>\n",
              "      <td>0.328748</td>\n",
              "    </tr>\n",
              "    <tr>\n",
              "      <th>INDUS</th>\n",
              "      <td>0.470953</td>\n",
              "      <td>-0.529899</td>\n",
              "      <td>1.000000</td>\n",
              "      <td>0.063921</td>\n",
              "      <td>0.771701</td>\n",
              "      <td>-0.400728</td>\n",
              "      <td>0.652145</td>\n",
              "      <td>-0.710744</td>\n",
              "      <td>0.598137</td>\n",
              "      <td>0.726786</td>\n",
              "      <td>0.356289</td>\n",
              "      <td>-0.364951</td>\n",
              "      <td>0.596170</td>\n",
              "      <td>-0.462024</td>\n",
              "    </tr>\n",
              "    <tr>\n",
              "      <th>CHAS</th>\n",
              "      <td>-0.053583</td>\n",
              "      <td>-0.038894</td>\n",
              "      <td>0.063921</td>\n",
              "      <td>1.000000</td>\n",
              "      <td>0.082418</td>\n",
              "      <td>0.078810</td>\n",
              "      <td>0.105709</td>\n",
              "      <td>-0.097126</td>\n",
              "      <td>-0.009559</td>\n",
              "      <td>-0.035398</td>\n",
              "      <td>-0.136561</td>\n",
              "      <td>0.072163</td>\n",
              "      <td>-0.061847</td>\n",
              "      <td>0.210127</td>\n",
              "    </tr>\n",
              "    <tr>\n",
              "      <th>NOX</th>\n",
              "      <td>0.494745</td>\n",
              "      <td>-0.513975</td>\n",
              "      <td>0.771701</td>\n",
              "      <td>0.082418</td>\n",
              "      <td>1.000000</td>\n",
              "      <td>-0.333332</td>\n",
              "      <td>0.728414</td>\n",
              "      <td>-0.773406</td>\n",
              "      <td>0.614603</td>\n",
              "      <td>0.669651</td>\n",
              "      <td>0.185289</td>\n",
              "      <td>-0.396468</td>\n",
              "      <td>0.597867</td>\n",
              "      <td>-0.432877</td>\n",
              "    </tr>\n",
              "    <tr>\n",
              "      <th>RM</th>\n",
              "      <td>-0.296291</td>\n",
              "      <td>0.305802</td>\n",
              "      <td>-0.400728</td>\n",
              "      <td>0.078810</td>\n",
              "      <td>-0.333332</td>\n",
              "      <td>1.000000</td>\n",
              "      <td>-0.254683</td>\n",
              "      <td>0.208213</td>\n",
              "      <td>-0.235706</td>\n",
              "      <td>-0.314703</td>\n",
              "      <td>-0.357910</td>\n",
              "      <td>0.132691</td>\n",
              "      <td>-0.605765</td>\n",
              "      <td>0.693034</td>\n",
              "    </tr>\n",
              "    <tr>\n",
              "      <th>AGE</th>\n",
              "      <td>0.398516</td>\n",
              "      <td>-0.575976</td>\n",
              "      <td>0.652145</td>\n",
              "      <td>0.105709</td>\n",
              "      <td>0.728414</td>\n",
              "      <td>-0.254683</td>\n",
              "      <td>1.000000</td>\n",
              "      <td>-0.747733</td>\n",
              "      <td>0.453779</td>\n",
              "      <td>0.502706</td>\n",
              "      <td>0.258183</td>\n",
              "      <td>-0.270718</td>\n",
              "      <td>0.589116</td>\n",
              "      <td>-0.365514</td>\n",
              "    </tr>\n",
              "    <tr>\n",
              "      <th>DIS</th>\n",
              "      <td>-0.433905</td>\n",
              "      <td>0.664273</td>\n",
              "      <td>-0.710744</td>\n",
              "      <td>-0.097126</td>\n",
              "      <td>-0.773406</td>\n",
              "      <td>0.208213</td>\n",
              "      <td>-0.747733</td>\n",
              "      <td>1.000000</td>\n",
              "      <td>-0.497788</td>\n",
              "      <td>-0.526477</td>\n",
              "      <td>-0.215836</td>\n",
              "      <td>0.297853</td>\n",
              "      <td>-0.475900</td>\n",
              "      <td>0.227691</td>\n",
              "    </tr>\n",
              "    <tr>\n",
              "      <th>RAD</th>\n",
              "      <td>0.719368</td>\n",
              "      <td>-0.308657</td>\n",
              "      <td>0.598137</td>\n",
              "      <td>-0.009559</td>\n",
              "      <td>0.614603</td>\n",
              "      <td>-0.235706</td>\n",
              "      <td>0.453779</td>\n",
              "      <td>-0.497788</td>\n",
              "      <td>1.000000</td>\n",
              "      <td>0.909593</td>\n",
              "      <td>0.463251</td>\n",
              "      <td>-0.459883</td>\n",
              "      <td>0.483946</td>\n",
              "      <td>-0.365624</td>\n",
              "    </tr>\n",
              "    <tr>\n",
              "      <th>TAX</th>\n",
              "      <td>0.670963</td>\n",
              "      <td>-0.302979</td>\n",
              "      <td>0.726786</td>\n",
              "      <td>-0.035398</td>\n",
              "      <td>0.669651</td>\n",
              "      <td>-0.314703</td>\n",
              "      <td>0.502706</td>\n",
              "      <td>-0.526477</td>\n",
              "      <td>0.909593</td>\n",
              "      <td>1.000000</td>\n",
              "      <td>0.450254</td>\n",
              "      <td>-0.455591</td>\n",
              "      <td>0.536984</td>\n",
              "      <td>-0.455669</td>\n",
              "    </tr>\n",
              "    <tr>\n",
              "      <th>PTRATIO</th>\n",
              "      <td>0.330721</td>\n",
              "      <td>-0.371035</td>\n",
              "      <td>0.356289</td>\n",
              "      <td>-0.136561</td>\n",
              "      <td>0.185289</td>\n",
              "      <td>-0.357910</td>\n",
              "      <td>0.258183</td>\n",
              "      <td>-0.215836</td>\n",
              "      <td>0.463251</td>\n",
              "      <td>0.450254</td>\n",
              "      <td>1.000000</td>\n",
              "      <td>-0.184390</td>\n",
              "      <td>0.363100</td>\n",
              "      <td>-0.485361</td>\n",
              "    </tr>\n",
              "    <tr>\n",
              "      <th>B</th>\n",
              "      <td>-0.479137</td>\n",
              "      <td>0.177351</td>\n",
              "      <td>-0.364951</td>\n",
              "      <td>0.072163</td>\n",
              "      <td>-0.396468</td>\n",
              "      <td>0.132691</td>\n",
              "      <td>-0.270718</td>\n",
              "      <td>0.297853</td>\n",
              "      <td>-0.459883</td>\n",
              "      <td>-0.455591</td>\n",
              "      <td>-0.184390</td>\n",
              "      <td>1.000000</td>\n",
              "      <td>-0.370681</td>\n",
              "      <td>0.341094</td>\n",
              "    </tr>\n",
              "    <tr>\n",
              "      <th>LSTAT</th>\n",
              "      <td>0.527844</td>\n",
              "      <td>-0.393676</td>\n",
              "      <td>0.596170</td>\n",
              "      <td>-0.061847</td>\n",
              "      <td>0.597867</td>\n",
              "      <td>-0.605765</td>\n",
              "      <td>0.589116</td>\n",
              "      <td>-0.475900</td>\n",
              "      <td>0.483946</td>\n",
              "      <td>0.536984</td>\n",
              "      <td>0.363100</td>\n",
              "      <td>-0.370681</td>\n",
              "      <td>1.000000</td>\n",
              "      <td>-0.735100</td>\n",
              "    </tr>\n",
              "    <tr>\n",
              "      <th>MEDV</th>\n",
              "      <td>-0.412906</td>\n",
              "      <td>0.328748</td>\n",
              "      <td>-0.462024</td>\n",
              "      <td>0.210127</td>\n",
              "      <td>-0.432877</td>\n",
              "      <td>0.693034</td>\n",
              "      <td>-0.365514</td>\n",
              "      <td>0.227691</td>\n",
              "      <td>-0.365624</td>\n",
              "      <td>-0.455669</td>\n",
              "      <td>-0.485361</td>\n",
              "      <td>0.341094</td>\n",
              "      <td>-0.735100</td>\n",
              "      <td>1.000000</td>\n",
              "    </tr>\n",
              "  </tbody>\n",
              "</table>\n",
              "</div>"
            ],
            "text/plain": [
              "             CRIM        ZN     INDUS  ...         B     LSTAT      MEDV\n",
              "CRIM     1.000000 -0.229831  0.470953  ... -0.479137  0.527844 -0.412906\n",
              "ZN      -0.229831  1.000000 -0.529899  ...  0.177351 -0.393676  0.328748\n",
              "INDUS    0.470953 -0.529899  1.000000  ... -0.364951  0.596170 -0.462024\n",
              "CHAS    -0.053583 -0.038894  0.063921  ...  0.072163 -0.061847  0.210127\n",
              "NOX      0.494745 -0.513975  0.771701  ... -0.396468  0.597867 -0.432877\n",
              "RM      -0.296291  0.305802 -0.400728  ...  0.132691 -0.605765  0.693034\n",
              "AGE      0.398516 -0.575976  0.652145  ... -0.270718  0.589116 -0.365514\n",
              "DIS     -0.433905  0.664273 -0.710744  ...  0.297853 -0.475900  0.227691\n",
              "RAD      0.719368 -0.308657  0.598137  ... -0.459883  0.483946 -0.365624\n",
              "TAX      0.670963 -0.302979  0.726786  ... -0.455591  0.536984 -0.455669\n",
              "PTRATIO  0.330721 -0.371035  0.356289  ... -0.184390  0.363100 -0.485361\n",
              "B       -0.479137  0.177351 -0.364951  ...  1.000000 -0.370681  0.341094\n",
              "LSTAT    0.527844 -0.393676  0.596170  ... -0.370681  1.000000 -0.735100\n",
              "MEDV    -0.412906  0.328748 -0.462024  ...  0.341094 -0.735100  1.000000\n",
              "\n",
              "[14 rows x 14 columns]"
            ]
          },
          "metadata": {
            "tags": []
          },
          "execution_count": 24
        }
      ]
    },
    {
      "cell_type": "markdown",
      "metadata": {
        "id": "rEyh2FWSegzN"
      },
      "source": [
        "Vemos que crimes estão altamente correlacionados com a acessibilidade à rodovias, o que é esperado. Isso também ocorre entre o número de lotes residenciais e a proximidade aos centros de emprego. Também entre acessibilidade à rodovias e taxa de impostos. \n",
        "\n",
        "Vejamos em ordem decrescente quais variáveis estão mais correlacionadas com o rótulo."
      ]
    },
    {
      "cell_type": "code",
      "metadata": {
        "colab": {
          "base_uri": "https://localhost:8080/"
        },
        "id": "3ymYYjU7hgQt",
        "outputId": "a6a6a0e3-7cb6-4ae2-d3bf-3e22422f2a14"
      },
      "source": [
        "corr_matrix[\"MEDV\"].sort_values(ascending=False)"
      ],
      "execution_count": null,
      "outputs": [
        {
          "output_type": "execute_result",
          "data": {
            "text/plain": [
              "MEDV       1.000000\n",
              "RM         0.693034\n",
              "B          0.341094\n",
              "ZN         0.328748\n",
              "DIS        0.227691\n",
              "CHAS       0.210127\n",
              "AGE       -0.365514\n",
              "RAD       -0.365624\n",
              "CRIM      -0.412906\n",
              "NOX       -0.432877\n",
              "TAX       -0.455669\n",
              "INDUS     -0.462024\n",
              "PTRATIO   -0.485361\n",
              "LSTAT     -0.735100\n",
              "Name: MEDV, dtype: float64"
            ]
          },
          "metadata": {
            "tags": []
          },
          "execution_count": 25
        }
      ]
    },
    {
      "cell_type": "code",
      "metadata": {
        "colab": {
          "base_uri": "https://localhost:8080/",
          "height": 304
        },
        "id": "VqukzNHplT8H",
        "outputId": "f847b23a-3898-4388-dd62-6af0234e448f"
      },
      "source": [
        "# visualizando a alta correlação entre \"RM\" e \"MEDV\".\n",
        "housing.plot(kind=\"scatter\", x=\"RM\", y=\"MEDV\")"
      ],
      "execution_count": null,
      "outputs": [
        {
          "output_type": "execute_result",
          "data": {
            "text/plain": [
              "<matplotlib.axes._subplots.AxesSubplot at 0x7f9fc5205390>"
            ]
          },
          "metadata": {
            "tags": []
          },
          "execution_count": 26
        },
        {
          "output_type": "display_data",
          "data": {
            "image/png": "[encoded data removed]",
            "text/plain": [
              "<Figure size 432x288 with 1 Axes>"
            ]
          },
          "metadata": {
            "tags": [],
            "needs_background": "light"
          }
        }
      ]
    },
    {
      "cell_type": "markdown",
      "metadata": {
        "id": "rB7G3vKnlphU"
      },
      "source": [
        "Vemos que realmente há uma forte correlação entre essas variáveis e um valor limiar de preço médio das habitações igual à 50 mil doláres."
      ]
    },
    {
      "cell_type": "markdown",
      "metadata": {
        "id": "6jRzAHrgmGfT"
      },
      "source": [
        "6 PREPARANDO OS DADOS PARA OS ALGORITMOS DE MACHINE LEARNING"
      ]
    },
    {
      "cell_type": "code",
      "metadata": {
        "id": "nY0Zxfc2mRn1"
      },
      "source": [
        "# Retirando o rótulo do conjunto de treino estratificado. Housing agora é o conjunto de treino,\n",
        "# não todo o dataset!\n",
        "\n",
        "housing = strat_train_set.drop(\"MEDV\", axis=1) # O método drop cria cópia sem a coluna em questao\n",
        "housing_labels = strat_train_set[\"MEDV\"].copy() #salvando uma cópia"
      ],
      "execution_count": null,
      "outputs": []
    },
    {
      "cell_type": "markdown",
      "metadata": {
        "id": "X5YjsytunEIS"
      },
      "source": [
        "Já vimos que não há dados faltantes, nem colunas não númericas. Então, vamos pular a etapa de limpeza dos dados. Na etapa de transformação a seguir, vamos apenas escalonar. Para cada feature temos z = (x - u) / s, em que u é a média e s é o desvio padrão (confirmar na documentação)."
      ]
    },
    {
      "cell_type": "code",
      "metadata": {
        "id": "wRufRSMPKbe8"
      },
      "source": [
        "#criando a pipeline \n",
        "from sklearn.pipeline import Pipeline\n",
        "from sklearn.preprocessing import StandardScaler  #StandardScaler serve para fazer a reescalar das variáveis\n",
        "\n",
        "num_pipeline = Pipeline([\n",
        "        ('std_scaler', StandardScaler()),\n",
        "    ])\n",
        "\n",
        "housing_num_tr = num_pipeline.fit_transform(housing)"
      ],
      "execution_count": null,
      "outputs": []
    },
    {
      "cell_type": "code",
      "metadata": {
        "colab": {
          "base_uri": "https://localhost:8080/"
        },
        "id": "GN4pBpXUMdPJ",
        "outputId": "10a1f4ec-ba4e-4f1a-fa84-d7a5ac40454d"
      },
      "source": [
        "housing_num_tr"
      ],
      "execution_count": null,
      "outputs": [
        {
          "output_type": "execute_result",
          "data": {
            "text/plain": [
              "array([[-0.47379207, -0.47775947, -0.37484936, ...,  1.1237389 ,\n",
              "         0.43684315, -0.0617388 ],\n",
              "       [ 1.60188931, -0.47775947,  1.00912364, ...,  0.80136787,\n",
              "        -3.46117839,  1.1967748 ],\n",
              "       [-0.48465599,  0.93266773, -1.30039944, ..., -0.02758621,\n",
              "         0.41996063, -0.81262847],\n",
              "       ...,\n",
              "       [-0.31286827, -0.47775947,  1.22382805, ..., -1.73154736,\n",
              "        -0.67729471,  0.24199186],\n",
              "       [-0.47536493,  0.05649326, -0.47494804, ..., -1.50128234,\n",
              "         0.45480788,  0.07887725],\n",
              "       [-0.13974922, -0.47775947,  1.22382805, ..., -1.73154736,\n",
              "         0.39864104,  2.36529413]])"
            ]
          },
          "metadata": {
            "tags": []
          },
          "execution_count": 29
        }
      ]
    },
    {
      "cell_type": "markdown",
      "metadata": {
        "id": "iUYORPDkvG5s"
      },
      "source": [
        "# 7. SELECIONAR E TREINAR O MODELO."
      ]
    },
    {
      "cell_type": "code",
      "metadata": {
        "id": "Tlfuq_N_8M3Q",
        "colab": {
          "base_uri": "https://localhost:8080/"
        },
        "outputId": "ab737b45-7fbf-435a-d81a-c3074dfcf4a7"
      },
      "source": [
        "# Regressão linear\n",
        "from sklearn.linear_model import LinearRegression\n",
        "\n",
        "lin_reg = LinearRegression()\n",
        "lin_reg.fit(housing, housing_labels) \n"
      ],
      "execution_count": null,
      "outputs": [
        {
          "output_type": "execute_result",
          "data": {
            "text/plain": [
              "LinearRegression(copy_X=True, fit_intercept=True, n_jobs=None, normalize=False)"
            ]
          },
          "metadata": {
            "tags": []
          },
          "execution_count": 30
        }
      ]
    },
    {
      "cell_type": "code",
      "metadata": {
        "colab": {
          "base_uri": "https://localhost:8080/"
        },
        "id": "jO5lq9bFNrIS",
        "outputId": "2c8f2dbf-852d-441e-b378-27a40ece2942"
      },
      "source": [
        "# Testando o nosso pipeline de pré-processamento em algumas instâncias de treino.\n",
        "some_data = housing.iloc[:5]\n",
        "some_labels = housing_labels.iloc[:5]\n",
        "some_data_prepared = num_pipeline.transform(some_data) #Full pipeline\n",
        "\n",
        "print(\"Predictions:\", lin_reg.predict(some_data_prepared))"
      ],
      "execution_count": null,
      "outputs": [
        {
          "output_type": "stream",
          "text": [
            "Predictions: [40.53265268 29.79142418 53.1876477  55.92660108 29.39132048]\n"
          ],
          "name": "stdout"
        }
      ]
    },
    {
      "cell_type": "markdown",
      "metadata": {
        "id": "aYFma42WOK0f"
      },
      "source": [
        "Comparando com os valores reais:"
      ]
    },
    {
      "cell_type": "code",
      "metadata": {
        "colab": {
          "base_uri": "https://localhost:8080/"
        },
        "id": "jUL-hatRONDk",
        "outputId": "f1e65f1b-8b71-433a-b3cf-339f32f11601"
      },
      "source": [
        "print(\"Labels:\", list(some_labels))"
      ],
      "execution_count": null,
      "outputs": [
        {
          "output_type": "stream",
          "text": [
            "Labels: [19.8, 17.2, 36.1, 30.8, 21.2]\n"
          ],
          "name": "stdout"
        }
      ]
    },
    {
      "cell_type": "markdown",
      "metadata": {
        "id": "Q8jmj9GOOeWk"
      },
      "source": [
        "Agora vamos usar as métricas para saber o quão bom é o nosso modelo."
      ]
    },
    {
      "cell_type": "code",
      "metadata": {
        "colab": {
          "base_uri": "https://localhost:8080/"
        },
        "id": "KYvYohBNOlmE",
        "outputId": "30280655-821e-4c7a-effa-fb2892958985"
      },
      "source": [
        "from sklearn.metrics import mean_squared_error as MSE\n",
        "\n",
        "housing_predictions = lin_reg.predict(housing)\n",
        "lin_mse = MSE(housing_labels, housing_predictions)\n",
        "lin_rmse = np.sqrt(lin_mse) \n",
        "lin_rmse"
      ],
      "execution_count": null,
      "outputs": [
        {
          "output_type": "execute_result",
          "data": {
            "text/plain": [
              "4.715303516024049"
            ]
          },
          "metadata": {
            "tags": []
          },
          "execution_count": 33
        }
      ]
    },
    {
      "cell_type": "code",
      "metadata": {
        "id": "fVUWg9TX8M3e",
        "colab": {
          "base_uri": "https://localhost:8080/"
        },
        "outputId": "0ce1d50d-b3d9-40c8-993b-61406abe37a5"
      },
      "source": [
        "from sklearn.metrics import mean_absolute_error as MAE\n",
        "\n",
        "lin_mae = MAE(housing_labels, housing_predictions)\n",
        "lin_mae"
      ],
      "execution_count": null,
      "outputs": [
        {
          "output_type": "execute_result",
          "data": {
            "text/plain": [
              "3.30836242894764"
            ]
          },
          "metadata": {
            "tags": []
          },
          "execution_count": 34
        }
      ]
    },
    {
      "cell_type": "code",
      "metadata": {
        "id": "j22oB0-98M3t",
        "colab": {
          "base_uri": "https://localhost:8080/"
        },
        "outputId": "45233aaf-f0cd-456f-d90c-bf86a4d526cd"
      },
      "source": [
        "from sklearn.tree import DecisionTreeRegressor\n",
        "\n",
        "tree_reg = DecisionTreeRegressor(random_state= seed)\n",
        "tree_reg.fit(housing, housing_labels)"
      ],
      "execution_count": null,
      "outputs": [
        {
          "output_type": "execute_result",
          "data": {
            "text/plain": [
              "DecisionTreeRegressor(ccp_alpha=0.0, criterion='mse', max_depth=None,\n",
              "                      max_features=None, max_leaf_nodes=None,\n",
              "                      min_impurity_decrease=0.0, min_impurity_split=None,\n",
              "                      min_samples_leaf=1, min_samples_split=2,\n",
              "                      min_weight_fraction_leaf=0.0, presort='deprecated',\n",
              "                      random_state=42, splitter='best')"
            ]
          },
          "metadata": {
            "tags": []
          },
          "execution_count": 35
        }
      ]
    },
    {
      "cell_type": "code",
      "metadata": {
        "id": "SJlEkoBQ8M3v",
        "colab": {
          "base_uri": "https://localhost:8080/"
        },
        "outputId": "84e2332a-286a-4c09-ad7c-ae1657c01cbd"
      },
      "source": [
        "housing_predictions = tree_reg.predict(housing)\n",
        "tree_mse = MSE(housing_labels, housing_predictions)\n",
        "tree_rmse = np.sqrt(tree_mse)\n",
        "tree_rmse  # erro 0.0 indica ou subajuste ou sobreajuste. Então a árvore de decisão não ajuda aqui."
      ],
      "execution_count": null,
      "outputs": [
        {
          "output_type": "execute_result",
          "data": {
            "text/plain": [
              "0.0"
            ]
          },
          "metadata": {
            "tags": []
          },
          "execution_count": 36
        }
      ]
    },
    {
      "cell_type": "markdown",
      "metadata": {
        "id": "vMq1y2p5QjVG"
      },
      "source": [
        "# 8. Avaliação do Modelo"
      ]
    },
    {
      "cell_type": "markdown",
      "metadata": {
        "id": "S5PApucfQ0tt"
      },
      "source": [
        "Até o momento testando o modelo no mesmo conjunto que treinamos. É melhor realizar a **validação cruzada** dividindo o conjunto de treinamento em k=10 folds, indicada a seguir:"
      ]
    },
    {
      "cell_type": "code",
      "metadata": {
        "id": "ImP3bCciQ8sY"
      },
      "source": [
        "from sklearn.model_selection import cross_val_score\n",
        "\n",
        "scores = cross_val_score(tree_reg, housing, housing_labels,\n",
        "                         scoring=\"neg_mean_squared_error\", cv=10) \n",
        "\n",
        "tree_rmse_scores = np.sqrt(-scores)"
      ],
      "execution_count": null,
      "outputs": []
    },
    {
      "cell_type": "code",
      "metadata": {
        "id": "3DeXlTRkFKtF",
        "colab": {
          "base_uri": "https://localhost:8080/"
        },
        "outputId": "460a1a37-b13c-4b14-d947-c8d369bffa46"
      },
      "source": [
        "# resultados para árvore de decisão\n",
        "def display_scores(scores):\n",
        "    print(\"Scores:\", scores)\n",
        "    print(\"Mean:\", scores.mean())\n",
        "    print(\"Standard deviation:\", scores.std())\n",
        "\n",
        "display_scores(tree_rmse_scores)"
      ],
      "execution_count": null,
      "outputs": [
        {
          "output_type": "stream",
          "text": [
            "Scores: [3.37501581 4.11528975 4.91778753 5.64051113 5.28161907 3.78731435\n",
            " 4.09820082 2.8285597  6.58038753 3.22563947]\n",
            "Mean: 4.385032517048218\n",
            "Standard deviation: 1.1306077882144747\n"
          ],
          "name": "stdout"
        }
      ]
    },
    {
      "cell_type": "code",
      "metadata": {
        "id": "MCPtZ0GrFZAN",
        "colab": {
          "base_uri": "https://localhost:8080/"
        },
        "outputId": "74be840f-6333-45f3-8a76-6a36011bd869"
      },
      "source": [
        "# resultados para regressão linear\n",
        "lin_scores = cross_val_score(lin_reg, housing, housing_labels,\n",
        "                             scoring=\"neg_mean_squared_error\", cv=10)\n",
        "lin_rmse_scores = np.sqrt(-lin_scores)\n",
        "display_scores(lin_rmse_scores)"
      ],
      "execution_count": null,
      "outputs": [
        {
          "output_type": "stream",
          "text": [
            "Scores: [4.18922765 3.44216806 5.88427832 4.80804251 4.19246146 6.30961717\n",
            " 4.2096228  4.20564047 5.60417852 5.60880716]\n",
            "Mean: 4.8454044123207005\n",
            "Standard deviation: 0.8956889343710904\n"
          ],
          "name": "stdout"
        }
      ]
    },
    {
      "cell_type": "markdown",
      "metadata": {
        "id": "O7B1O2y2Clrg"
      },
      "source": [
        "Vamos agora para o modelo de \"Florestas Aleatórias\" (random forest)"
      ]
    },
    {
      "cell_type": "code",
      "metadata": {
        "colab": {
          "base_uri": "https://localhost:8080/"
        },
        "id": "946pyQKOCquk",
        "outputId": "94acad62-8a07-4fe2-a2e7-c2b24112f725"
      },
      "source": [
        "#Treinando o modelo\n",
        "from sklearn.ensemble import RandomForestRegressor\n",
        "\n",
        "forest_reg = RandomForestRegressor(n_estimators=10, random_state=42)\n",
        "forest_reg.fit(housing, housing_labels) "
      ],
      "execution_count": null,
      "outputs": [
        {
          "output_type": "execute_result",
          "data": {
            "text/plain": [
              "RandomForestRegressor(bootstrap=True, ccp_alpha=0.0, criterion='mse',\n",
              "                      max_depth=None, max_features='auto', max_leaf_nodes=None,\n",
              "                      max_samples=None, min_impurity_decrease=0.0,\n",
              "                      min_impurity_split=None, min_samples_leaf=1,\n",
              "                      min_samples_split=2, min_weight_fraction_leaf=0.0,\n",
              "                      n_estimators=10, n_jobs=None, oob_score=False,\n",
              "                      random_state=42, verbose=0, warm_start=False)"
            ]
          },
          "metadata": {
            "tags": []
          },
          "execution_count": 43
        }
      ]
    },
    {
      "cell_type": "code",
      "metadata": {
        "id": "mRpy3pF9GZul",
        "colab": {
          "base_uri": "https://localhost:8080/"
        },
        "outputId": "fe62390c-318f-40b8-ca69-a61037cf533e"
      },
      "source": [
        "# Fazendo predições\n",
        "housing_predictions = forest_reg.predict(housing) \n",
        "forest_mse = MSE(housing_labels, housing_predictions)\n",
        "forest_rmse = np.sqrt(forest_mse)\n",
        "forest_rmse"
      ],
      "execution_count": null,
      "outputs": [
        {
          "output_type": "execute_result",
          "data": {
            "text/plain": [
              "1.4788106506899588"
            ]
          },
          "metadata": {
            "tags": []
          },
          "execution_count": 45
        }
      ]
    },
    {
      "cell_type": "code",
      "metadata": {
        "id": "_VKsl_wLG3h1",
        "colab": {
          "base_uri": "https://localhost:8080/"
        },
        "outputId": "9416373f-a878-466c-926f-0a0d5b69a8e0"
      },
      "source": [
        "# validação cruzada\n",
        "from sklearn.model_selection import cross_val_score\n",
        "\n",
        "forest_scores = cross_val_score(forest_reg, housing, housing_labels,\n",
        "                                scoring=\"neg_mean_squared_error\", cv=10)\n",
        "forest_rmse_scores = np.sqrt(-forest_scores)\n",
        "display_scores(forest_rmse_scores)"
      ],
      "execution_count": null,
      "outputs": [
        {
          "output_type": "stream",
          "text": [
            "Scores: [2.34658652 3.25070912 3.87557266 4.09558507 2.71702595 3.25328334\n",
            " 3.18881169 2.57009192 4.65332811 3.2007339 ]\n",
            "Mean: 3.315172827719633\n",
            "Standard deviation: 0.6783719304393042\n"
          ],
          "name": "stdout"
        }
      ]
    },
    {
      "cell_type": "markdown",
      "metadata": {
        "id": "zkemPcOtFaju"
      },
      "source": [
        "# 9. Ajustando e selecionando o modelo"
      ]
    },
    {
      "cell_type": "markdown",
      "metadata": {
        "id": "oYvbsDxcFgjD"
      },
      "source": [
        "Agora vamos usar o GridSearch, que utiliza a validação cruzada para avaliar todas as combinações possíveis de hiperparâmetros. Isso no nosso modelo random forest."
      ]
    },
    {
      "cell_type": "code",
      "metadata": {
        "colab": {
          "base_uri": "https://localhost:8080/"
        },
        "id": "RR0UfR9AFxzT",
        "outputId": "3549635e-0ca9-432c-e1e6-c81ba5f11e21"
      },
      "source": [
        "from sklearn.model_selection import GridSearchCV\n",
        "\n",
        "param_grid = [\n",
        "    {'n_estimators': [3, 10, 30], 'max_features': [2, 4, 6, 8]},\n",
        "    {'bootstrap': [False], 'n_estimators': [3, 10], 'max_features': [2, 3, 4]},\n",
        "  ]\n",
        "\n",
        "forest_reg = RandomForestRegressor(random_state=seed)\n",
        "\n",
        "grid_search = GridSearchCV(forest_reg, param_grid, cv=5,\n",
        "                           scoring='neg_mean_squared_error',\n",
        "                           return_train_score=True)\n",
        "\n",
        "grid_search.fit(housing, housing_labels)"
      ],
      "execution_count": null,
      "outputs": [
        {
          "output_type": "execute_result",
          "data": {
            "text/plain": [
              "GridSearchCV(cv=5, error_score=nan,\n",
              "             estimator=RandomForestRegressor(bootstrap=True, ccp_alpha=0.0,\n",
              "                                             criterion='mse', max_depth=None,\n",
              "                                             max_features='auto',\n",
              "                                             max_leaf_nodes=None,\n",
              "                                             max_samples=None,\n",
              "                                             min_impurity_decrease=0.0,\n",
              "                                             min_impurity_split=None,\n",
              "                                             min_samples_leaf=1,\n",
              "                                             min_samples_split=2,\n",
              "                                             min_weight_fraction_leaf=0.0,\n",
              "                                             n_estimators=100, n_jobs=None,\n",
              "                                             oob_score=False, random_state=42,\n",
              "                                             verbose=0, warm_start=False),\n",
              "             iid='deprecated', n_jobs=None,\n",
              "             param_grid=[{'max_features': [2, 4, 6, 8],\n",
              "                          'n_estimators': [3, 10, 30]},\n",
              "                         {'bootstrap': [False], 'max_features': [2, 3, 4],\n",
              "                          'n_estimators': [3, 10]}],\n",
              "             pre_dispatch='2*n_jobs', refit=True, return_train_score=True,\n",
              "             scoring='neg_mean_squared_error', verbose=0)"
            ]
          },
          "metadata": {
            "tags": []
          },
          "execution_count": 47
        }
      ]
    },
    {
      "cell_type": "code",
      "metadata": {
        "colab": {
          "base_uri": "https://localhost:8080/"
        },
        "id": "f30G_0NtGY5W",
        "outputId": "c8515501-7755-491a-cd53-ed9fa4150e76"
      },
      "source": [
        "#melhor combinação de hiperparâmetros encontrada.\n",
        "grid_search.best_params_"
      ],
      "execution_count": null,
      "outputs": [
        {
          "output_type": "execute_result",
          "data": {
            "text/plain": [
              "{'bootstrap': False, 'max_features': 4, 'n_estimators': 10}"
            ]
          },
          "metadata": {
            "tags": []
          },
          "execution_count": 48
        }
      ]
    },
    {
      "cell_type": "markdown",
      "metadata": {
        "id": "F5FNpMPsGx7z"
      },
      "source": [
        "# 10. Modelo e teste final"
      ]
    },
    {
      "cell_type": "code",
      "metadata": {
        "colab": {
          "base_uri": "https://localhost:8080/"
        },
        "id": "1oi1b7BUG5e6",
        "outputId": "42bb8a4c-c11b-4308-86ae-143b1f80e19f"
      },
      "source": [
        "# teste final do nosso modelo\n",
        "final_model = grid_search.best_estimator_\n",
        "\n",
        "X_test = strat_test_set.drop(\"MEDV\", axis=1)\n",
        "y_test = strat_test_set[\"MEDV\"].copy()\n",
        "\n",
        "X_test_prepared = num_pipeline.transform(X_test)\n",
        "final_predictions = final_model.predict(X_test_prepared)\n",
        "\n",
        "final_mse = MSE(y_test, final_predictions)\n",
        "final_rmse = np.sqrt(final_mse)\n",
        "\n",
        "final_rmse"
      ],
      "execution_count": null,
      "outputs": [
        {
          "output_type": "execute_result",
          "data": {
            "text/plain": [
              "13.20991461432083"
            ]
          },
          "metadata": {
            "tags": []
          },
          "execution_count": 50
        }
      ]
    }
  ]
}